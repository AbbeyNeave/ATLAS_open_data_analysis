{
 "cells": [
  {
   "cell_type": "markdown",
   "id": "7c0ec4bc-2fa0-4129-b005-4b4399309cc3",
   "metadata": {
    "tags": [
     "H"
    ]
   },
   "source": [
    "### <CENTER><h1>Searching for the Higgs boson in the [H](https://en.wikipedia.org/wiki/Higgs_boson)&#8594;&gamma;&gamma; channel</h1></CENTER>"
   ]
  },
  {
   "cell_type": "markdown",
   "id": "516a1ad0-c763-40d2-9bbb-3a9fa589da33",
   "metadata": {},
   "source": [
    "Higgs Production:"
   ]
  },
  {
   "cell_type": "markdown",
   "id": "911faac2-caef-418a-bef1-1cebb2d68291",
   "metadata": {},
   "source": [
    "###  Standard Model [(SM)](http://opendata.atlas.cern/release/2020/documentation/physics/the-higgs-boson.html) production of the Higgs boson at the LHC is dominated by the gluon fusion process (ggF), followed by the vector-boson fusion process (VBF). Associated production also have sizeable contributions, with a W or Z boson (VH) or a pair of top quarks (qqH)."
   ]
  },
  {
   "cell_type": "markdown",
   "id": "973b74c5-25ba-4878-829a-fce30a4b0150",
   "metadata": {},
   "source": [
    "The ROOT dataframe tutorial shows you how to analyze datasets using `RDataFrame`. In the following example, we are going to reconstruct the Higgs boson decaying to two Photons in the ATLAS Open Data Sample\n",
    "https://atlas-opendata.web.cern.ch/atlas-opendata/samples/2020/GamGam/MC/"
   ]
  },
  {
   "cell_type": "code",
   "execution_count": null,
   "id": "bbfae59e-c0f0-497f-a289-18ee28e6af1f",
   "metadata": {},
   "outputs": [],
   "source": [
    "import ROOT\n",
    "import os"
   ]
  },
  {
   "cell_type": "code",
   "execution_count": null,
   "id": "1a1fc689-d04b-4a3a-84c3-9a23279736a0",
   "metadata": {},
   "outputs": [],
   "source": [
    "path = \"https://atlas-opendata.web.cern.ch/atlas-opendata/samples/2020/\"\n",
    "\n",
    "def get_data_samples():\n",
    "    samples = ROOT.std.vector(\"string\")()\n",
    "    for tag in [\"A\", \"B\", \"C\", \"D\"]:\n",
    "#    for tag in [\"A\"]:\n",
    "        samples.push_back(os.path.join(path, \"GamGam/Data/data_{}.GamGam.root\".format(tag)))\n",
    "    return samples\n",
    "\n",
    "def get_ggH125_samples():\n",
    "    samples = ROOT.std.vector(\"string\")()\n",
    "    samples.push_back(os.path.join(path, \"GamGam/MC/mc_343981.ggH125_gamgam.GamGam.root\"))\n",
    "    return samples"
   ]
  },
  {
   "cell_type": "code",
   "execution_count": null,
   "id": "ed0ec429-9ad9-47f8-85f4-766a92d5dd4a",
   "metadata": {},
   "outputs": [],
   "source": [
    "df = {}\n",
    "df[\"data\"] = ROOT.RDataFrame(\"mini\", get_data_samples())\n",
    "df[\"ggH\"] = ROOT.RDataFrame(\"mini\", get_ggH125_samples())\n",
    "processes = list(df.keys())\n",
    "## print the list of datasets in this example\n",
    "#print(processes)\n",
    "### To get the list of all variable columns in the dataset, e.g. ggH sample\n",
    "print(df[\"ggH\"].GetColumnNames())"
   ]
  },
  {
   "cell_type": "code",
   "execution_count": null,
   "id": "3bdaa2d1-5a09-48f1-abbf-2385f71e11ad",
   "metadata": {},
   "outputs": [],
   "source": [
    "# Apply scale factors and MC weight for simulated events and a weight of 1 for the data\n",
    "for p in [\"ggH\"]:\n",
    "    df[p] = df[p].Define(\"weight\", \"scaleFactor_PHOTON * scaleFactor_PhotonTRIGGER * scaleFactor_PILEUP * mcWeight\");\n",
    "df[\"data\"] = df[\"data\"].Define(\"weight\", \"1.0\")\n",
    "#SaveGraph(df[\"ggH\"]);"
   ]
  },
  {
   "cell_type": "code",
   "execution_count": null,
   "id": "39dc4499-3c0e-4fc0-a889-6002a457051e",
   "metadata": {},
   "outputs": [],
   "source": []
  }
 ],
 "metadata": {
  "kernelspec": {
   "display_name": "Python 3 (ipykernel)",
   "language": "python",
   "name": "python3"
  },
  "language_info": {
   "codemirror_mode": {
    "name": "ipython",
    "version": 3
   },
   "file_extension": ".py",
   "mimetype": "text/x-python",
   "name": "python",
   "nbconvert_exporter": "python",
   "pygments_lexer": "ipython3",
   "version": "3.7.12"
  }
 },
 "nbformat": 4,
 "nbformat_minor": 5
}
