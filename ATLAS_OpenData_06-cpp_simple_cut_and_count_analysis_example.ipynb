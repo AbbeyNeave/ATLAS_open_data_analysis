{
 "cells": [
  {
   "cell_type": "markdown",
   "metadata": {},
   "source": [
    "<CENTER>\n",
    "    <a href=\"http://opendata.atlas.cern\" class=\"icons\"><img src=\"../Assets/ATLASOD.gif\" style=\"width:50%\"></a>\n",
    "</CENTER>"
   ]
  },
  {
   "cell_type": "markdown",
   "metadata": {},
   "source": [
    "<CENTER><h1>Simple ATLAS OpenData HEP analysis C++ notebook example</h1></CENTER>"
   ]
  },
  {
   "cell_type": "code",
   "execution_count": 1,
   "metadata": {},
   "outputs": [],
   "source": [
    "//%jsroot on"
   ]
  },
  {
   "cell_type": "code",
   "execution_count": 2,
   "metadata": {},
   "outputs": [],
   "source": [
    "#include <iostream>\n",
    "#include <string>\n",
    "#include <stdio.h>"
   ]
  },
  {
   "cell_type": "code",
   "execution_count": 3,
   "metadata": {},
   "outputs": [],
   "source": [
    "TChain *dataset = new TChain(\"mini\");"
   ]
  },
  {
   "cell_type": "code",
   "execution_count": 4,
   "metadata": {},
   "outputs": [],
   "source": [
    "//dataset->Add(\"mc_105986.ZZ.root\");\n",
    "//dataset->Add(\"mc_147770.Zee.root\");\n",
    "\n",
    "// This input is readed directly from the Internet. If you are ofline, you can use the line above\n",
    "//dataset->Add(\"http://opendata.atlas.cern/release/samples/MC/mc_147770.Zee.root\"); // 8 TeV sample\n",
    "dataset->Add(\"http://opendata.atlas.cern/release/samples/2020/2lep/MC/mc_364122.Zee_PTV140_280_BFilter.2lep.root\"); // 13 TeV sample"
   ]
  },
  {
   "cell_type": "code",
   "execution_count": 5,
   "metadata": {},
   "outputs": [],
   "source": [
    "const int vs = 5;\n",
    "\n",
    "Int_t   lepton_n = -1,\n",
    "        lepton_charge[vs], \n",
    "        lepton_type[vs];\n",
    "\n",
    "Float_t lepton_pt[vs],\n",
    "        lepton_eta[vs],\n",
    "        lepton_phi[vs];"
   ]
  },
  {
   "cell_type": "code",
   "execution_count": 6,
   "metadata": {},
   "outputs": [],
   "source": [
    "dataset->SetBranchAddress(\"lep_n\",      &lepton_n);\n",
    "dataset->SetBranchAddress(\"lep_charge\", &lepton_charge);\n",
    "dataset->SetBranchAddress(\"lep_type\",   &lepton_type);\n",
    "dataset->SetBranchAddress(\"lep_pt\",     &lepton_pt);\n",
    "dataset->SetBranchAddress(\"lep_eta\",    &lepton_eta);\n",
    "dataset->SetBranchAddress(\"lep_phi\",    &lepton_phi);"
   ]
  },
  {
   "cell_type": "code",
   "execution_count": 7,
   "metadata": {},
   "outputs": [],
   "source": [
    "TH1F *h_lep_pt_leptons = new TH1F(\"h_lep_pt_leptons\",\"Lepton pt in GeV\",20,0,200);\n",
    "h_lep_pt_leptons->SetFillColor(kRed);"
   ]
  },
  {
   "cell_type": "code",
   "execution_count": 8,
   "metadata": {},
   "outputs": [],
   "source": [
    "int nentries, nbytes, i;\n",
    "nentries = (Int_t)dataset->GetEntries();"
   ]
  },
  {
   "cell_type": "code",
   "execution_count": 9,
   "metadata": {},
   "outputs": [
    {
     "name": "stdout",
     "output_type": "stream",
     "text": [
      "Total # events = 5446674. Events to run = 544667 corresponding to 10% of total events!\n"
     ]
    }
   ],
   "source": [
    "// IMPORTANT: fraction events we want to run\n",
    "fraction_events = 0.1;\n",
    "events_to_run = nentries*fraction_events;\n",
    "\n",
    "std::cout << \"Total # events = \"  << nentries\n",
    "          << \". Events to run = \" << events_to_run\n",
    "          << \" corresponding to \" << fraction_events*100\n",
    "          << \"% of total events!\" << std::endl;"
   ]
  },
  {
   "cell_type": "code",
   "execution_count": 10,
   "metadata": {},
   "outputs": [],
   "source": [
    "for (i=0; i<events_to_run; i++)\n",
    "{\n",
    "    nbytes = dataset->GetEntry(i);\n",
    "    \n",
    "    if(lepton_n>1) // Number of leptons in the events has to be at least 2\n",
    "    {\n",
    "        if(lepton_type[0] == lepton_type[1]) //Leptons of the same family, i.e. 2 electrons or 2 muons (those are the two most energetic leptons)\n",
    "        {\n",
    "            if(lepton_charge[0] != lepton_charge[1]) // The two selected leptons must have opposite charge\n",
    "            {\n",
    "                //PT\n",
    "                float lepton_pt_inGeV = lepton_pt[0]/1000.; // The default value in the root file is in MeV, so, we divide by 1000 to get it in GeV\n",
    "                h_lep_pt_leptons->Fill(lepton_pt_inGeV);\n",
    "            }\n",
    "        }\n",
    "    }\n",
    "}"
   ]
  },
  {
   "cell_type": "code",
   "execution_count": 11,
   "metadata": {},
   "outputs": [
    {
     "data": {
      "image/png": "[encoded data removed]",
      "text/plain": [
       "<IPython.core.display.Image object>"
      ]
     },
     "metadata": {},
     "output_type": "display_data"
    }
   ],
   "source": [
    "TCanvas *cz = new TCanvas(\"cz\",\"cz\",10,10,700,700);\n",
    "h_lep_pt_leptons->Draw();\n",
    "cz->Draw();"
   ]
  },
  {
   "cell_type": "markdown",
   "metadata": {
    "collapsed": true
   },
   "source": [
    "Your <b>first</b> histogram is done!"
   ]
  }
 ],
 "metadata": {
  "kernelspec": {
   "display_name": "ROOT C++",
   "language": "c++",
   "name": "root"
  },
  "language_info": {
   "codemirror_mode": "text/x-c++src",
   "file_extension": ".C",
   "mimetype": " text/x-c++src",
   "name": "c++"
  }
 },
 "nbformat": 4,
 "nbformat_minor": 1
}
